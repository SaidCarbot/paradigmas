{
 "cells": [
  {
   "cell_type": "markdown",
   "metadata": {},
   "source": [
    "4 de noviembre de 2024  \n",
    "De la práctica 1 de POO  \n",
    "Está es la implementación en Python\n",
    " "
   ]
  },
  {
   "cell_type": "markdown",
   "metadata": {},
   "source": [
    "<h4>1)Definir la Clase Libro:</h4>\n",
    "\n",
    "<p>Crea una clase llamada <strong>Libro</strong> que tenga los siguientes atributos:</p>\n",
    "<ul>\n",
    "    <li><strong>titulo</strong> (tipo String)</li>\n",
    "    <li><strong>autor</strong> (tipo String)</li>\n",
    "    <li><strong>isbn</strong> (tipo String - código único del libro)</li>\n",
    "    <li><strong>estado</strong> (tipo String - indica si el libro está “disponible” o “prestado”)</li>\n",
    "</ul>\n",
    "\n",
    "<p>Asegura que todos los atributos sean privados para aplicar encapsulamiento.</p>\n",
    "\n",
    "<p>Define los métodos necesarios para:</p>\n",
    "<ul>\n",
    "    <li>Acceder y modificar los atributos de manera controlada (<em>getters</em> y <em>setters</em>).</li>\n",
    "    <li>Inicializar los objetos (<strong>constructor</strong>).</li>\n",
    "    <li>Cambiar el estado del libro (por ejemplo, al prestarlo o devolverlo).</li>\n",
    "</ul>\n"
   ]
  },
  {
   "cell_type": "markdown",
   "metadata": {},
   "source": [
    "___________________________________________________________\n",
    "Crear clase libro"
   ]
  },
  {
   "cell_type": "code",
   "execution_count": 18,
   "metadata": {},
   "outputs": [],
   "source": [
    "class Libro:\n",
    "    def __init__(self, titulo, autor, isbn):\n",
    "        self.__titulo = titulo\n",
    "        self.__autor = autor\n",
    "        self.__isbn = isbn\n",
    "        self.__estado = \"disponible\"  # Estado inicial es \"disponible\"\n",
    "    \n",
    "    # Getters\n",
    "    def get_titulo(self):\n",
    "        return self.__titulo\n",
    "\n",
    "    def get_autor(self):\n",
    "        return self.__autor\n",
    "\n",
    "    def get_isbn(self):\n",
    "        return self.__isbn\n",
    "\n",
    "    def get_estado(self):\n",
    "        return self.__estado\n",
    "\n",
    "    # Setters\n",
    "    def set_titulo(self, titulo):\n",
    "        self.__titulo = titulo\n",
    "\n",
    "    def set_autor(self, autor):\n",
    "        self.__autor = autor\n",
    "\n",
    "    def set_estado(self, estado):\n",
    "        if estado in [\"disponible\", \"prestado\"]:\n",
    "            self.__estado = estado\n",
    "        else:\n",
    "            print(\"Estado no válido. Usa 'disponible' o 'prestado'.\")\n",
    "#ISBN no tiene un setter porque, al ser un código único que identifica al libro,\n",
    "#generalmente no se espera que cambie una vez que el libro ha sido creado. \n",
    "#En la mayoría de los casos, el ISBN se establece al crear el objeto Libro \n",
    "#y debería mantenerse constante, ya que cambiarlo podría afectar la integridad y \n",
    "#unicidad del libro en la colección.\n",
    "\n",
    "    # Método para cambiar el estado del libro\n",
    "    def prestar(self):\n",
    "        if self.__estado == \"disponible\":\n",
    "            self.__estado = \"prestado\"\n",
    "            return f\"El libro '{self.__titulo}' ha sido prestado.\"\n",
    "        else:\n",
    "            return f\"El libro '{self.__titulo}' ya está prestado.\"\n",
    "\n",
    "    def devolver(self):\n",
    "        if self.__estado == \"prestado\":\n",
    "            self.__estado = \"disponible\"\n",
    "            return f\"El libro '{self.__titulo}' ha sido devuelto.\"\n",
    "        else:\n",
    "            return f\"El libro '{self.__titulo}' ya está disponible.\"\n"
   ]
  },
  {
   "cell_type": "markdown",
   "metadata": {},
   "source": [
    "<h4>2)Implementar la Clase Biblioteca</h4>\n",
    "\n",
    "<p>Crea una clase llamada <strong>Biblioteca</strong> que gestionará una colección de libros.</p>\n",
    "<p>Esta clase debe tener:</p>\n",
    "<ul>\n",
    "    <li>Una colección privada de libros (por ejemplo, un <code>ArrayList&lt;Libro&gt;</code>, lista simple o un arreglo simple, dependiendo del lenguaje).</li>\n",
    "</ul>\n",
    "\n",
    "<p>Define los siguientes métodos:</p>\n",
    "<ul>\n",
    "    <li><strong>agregarLibro(Libro libro)</strong>: añade un libro a la colección.</li>\n",
    "    <li><strong>buscarLibroPorISBN(String isbn)</strong>: devuelve un libro específico si encuentra el ISBN o <code>null</code> en caso contrario.</li>\n",
    "    <li><strong>prestarLibro(String isbn)</strong>: cambia el estado del libro a “prestado” si está disponible.</li>\n",
    "    <li><strong>devolverLibro(String isbn)</strong>: cambia el estado del libro a “disponible” si está prestado.</li>\n",
    "</ul>\n"
   ]
  },
  {
   "cell_type": "code",
   "execution_count": 19,
   "metadata": {},
   "outputs": [],
   "source": [
    "class Biblioteca:\n",
    "    def __init__(self):\n",
    "        self.__coleccion = []  # Lista privada para almacenar los libros\n",
    "\n",
    "    def agregar_libro(self, libro):\n",
    "        self.__coleccion.append(libro)\n",
    "        return f\"Libro '{libro.get_titulo()}' agregado a la biblioteca.\"\n",
    "\n",
    "    def buscar_libro_por_isbn(self, isbn):\n",
    "        for libro in self.__coleccion:\n",
    "            if libro.get_isbn() == isbn:\n",
    "                return libro\n",
    "        return None\n",
    "\n",
    "    def prestar_libro(self, isbn):\n",
    "        libro = self.buscar_libro_por_isbn(isbn)\n",
    "        if libro:\n",
    "            return libro.prestar()\n",
    "        else:\n",
    "            return f\"No se encontró ningún libro con ISBN {isbn}.\"\n",
    "\n",
    "    def devolver_libro(self, isbn):\n",
    "        libro = self.buscar_libro_por_isbn(isbn)\n",
    "        if libro:\n",
    "            return libro.devolver()\n",
    "        else:\n",
    "            return f\"No se encontró ningún libro con ISBN {isbn}.\"\n",
    "\n",
    "    def mostrar_libros(self):\n",
    "        libros_info = \"Colección de libros:\\n\"\n",
    "        for libro in self.__coleccion:\n",
    "            libros_info += f\"Título: {libro.get_titulo()}, Autor: {libro.get_autor()}, ISBN: {libro.get_isbn()}, Estado: {libro.get_estado()}\\n\"\n",
    "        return libros_info"
   ]
  },
  {
   "cell_type": "markdown",
   "metadata": {},
   "source": [
    "<h4>3) Simulación</h4>\n",
    "\n",
    "<p>Crea un programa que simule el uso de la biblioteca:</p>\n",
    "<ul>\n",
    "    <li>Añade al menos 3 libros.</li>\n",
    "    <li>Muestra la colección de libros disponible.</li>\n",
    "    <li>Permite prestar un libro introduciendo su ISBN.</li>\n",
    "    <li>Permite devolver un libro por ISBN.</li>\n",
    "    <li>Muestra el estado actualizado de los libros.</li>\n",
    "</ul>\n"
   ]
  },
  {
   "cell_type": "code",
   "execution_count": 20,
   "metadata": {},
   "outputs": [
    {
     "name": "stdout",
     "output_type": "stream",
     "text": [
      "Libro 'El Principito' agregado a la biblioteca.\n",
      "Libro '1984' agregado a la biblioteca.\n",
      "Libro 'Cien Años de Soledad' agregado a la biblioteca.\n",
      "Colección de libros:\n",
      "Título: El Principito, Autor: Antoine de Saint-Exupéry, ISBN: 12345, Estado: disponible\n",
      "Título: 1984, Autor: George Orwell, ISBN: 67890, Estado: disponible\n",
      "Título: Cien Años de Soledad, Autor: Gabriel García Márquez, ISBN: 54321, Estado: disponible\n",
      "\n",
      "El libro 'El Principito' ha sido prestado.\n",
      "El libro 'El Principito' ya está prestado.\n",
      "El libro 'El Principito' ha sido devuelto.\n",
      "Colección de libros:\n",
      "Título: El Principito, Autor: Antoine de Saint-Exupéry, ISBN: 12345, Estado: disponible\n",
      "Título: 1984, Autor: George Orwell, ISBN: 67890, Estado: disponible\n",
      "Título: Cien Años de Soledad, Autor: Gabriel García Márquez, ISBN: 54321, Estado: disponible\n",
      "\n"
     ]
    }
   ],
   "source": [
    "# Simulación de uso de la biblioteca en Jupyter Notebook\n",
    "biblioteca = Biblioteca()\n",
    "\n",
    "# Añadir libros y mostrar el estado de la colección\n",
    "libro1 = Libro(\"El Principito\", \"Antoine de Saint-Exupéry\", \"12345\")\n",
    "libro2 = Libro(\"1984\", \"George Orwell\", \"67890\")\n",
    "libro3 = Libro(\"Cien Años de Soledad\", \"Gabriel García Márquez\", \"54321\")\n",
    "\n",
    "# Agregar libros a la biblioteca\n",
    "print(biblioteca.agregar_libro(libro1))\n",
    "print(biblioteca.agregar_libro(libro2))\n",
    "print(biblioteca.agregar_libro(libro3))\n",
    "\n",
    "# Mostrar la colección inicial de libros\n",
    "print(biblioteca.mostrar_libros())\n",
    "\n",
    "# Prestar un libro por ISBN\n",
    "print(biblioteca.prestar_libro(\"12345\"))\n",
    "\n",
    "# Intentar prestar un libro que ya está prestado\n",
    "print(biblioteca.prestar_libro(\"12345\"))\n",
    "\n",
    "# Devolver un libro por ISBN\n",
    "print(biblioteca.devolver_libro(\"12345\"))\n",
    "\n",
    "# Mostrar el estado actualizado de los libros\n",
    "print(biblioteca.mostrar_libros())"
   ]
  },
  {
   "cell_type": "markdown",
   "metadata": {},
   "source": [
    "Por Said Carbot Cruz Trejo y Elian Alejandro Torres Cardenas\n",
    "ESCOM-IPN-MEX"
   ]
  }
 ],
 "metadata": {
  "kernelspec": {
   "display_name": "Python 3",
   "language": "python",
   "name": "python3"
  },
  "language_info": {
   "codemirror_mode": {
    "name": "ipython",
    "version": 3
   },
   "file_extension": ".py",
   "mimetype": "text/x-python",
   "name": "python",
   "nbconvert_exporter": "python",
   "pygments_lexer": "ipython3",
   "version": "3.13.0"
  }
 },
 "nbformat": 4,
 "nbformat_minor": 2
}
