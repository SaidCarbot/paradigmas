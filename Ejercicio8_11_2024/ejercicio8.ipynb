{
 "cells": [
  {
   "cell_type": "markdown",
   "metadata": {},
   "source": [
    "<h2 style=\"color:Black\"> \n",
    "Del ejercicio del 8 del novimebre de 2024  \n",
    "<br>\n",
    "Paradigmas de Programación   \n",
    "<br>\n",
    "Por: Said Carbot Cruz Trejo  \n",
    "<br>\n",
    "3BV2\n",
    "</h2>\n",
    "\n",
    "\n"
   ]
  },
  {
   "cell_type": "markdown",
   "metadata": {},
   "source": [
    "<h4 style=\"color:Black\">\n",
    "Del ejercicio visto en clase sobre herencia\n",
    "</h4>\n",
    "\n",
    "\n",
    "\n"
   ]
  },
  {
   "cell_type": "markdown",
   "metadata": {},
   "source": [
    "Python"
   ]
  },
  {
   "cell_type": "code",
   "execution_count": 1,
   "metadata": {},
   "outputs": [
    {
     "name": "stdout",
     "output_type": "stream",
     "text": [
      "Rex says Woof!\n",
      "Whiskers says Meow!\n",
      "3\n",
      "5\n"
     ]
    }
   ],
   "source": [
    "class Animal:\n",
    "    def __init__(self, name):\n",
    "        self.name = name\n",
    "        self._age=0\n",
    "\n",
    "    def speak(self):\n",
    "        raise NotImplementedError(\"Subclass must implement abstract method\")\n",
    "\n",
    "class Dog(Animal):\n",
    "    def speak(self):\n",
    "        return f\"{self.name} says Woof!\"\n",
    "    \n",
    "    def set_age(self,age):\n",
    "        self._age=age\n",
    "\n",
    "    def get_age(self):\n",
    "        return self._age\n",
    "\n",
    "class Cat(Animal):\n",
    "    def speak(self):\n",
    "        return f\"{self.name} says Meow!\"\n",
    "    \n",
    "    def set_age(self,age):\n",
    "        self._age=age\n",
    "\n",
    "    def get_age(self):\n",
    "        return self._age\n",
    "\n",
    "# Ejemplo de uso\n",
    "dog = Dog(\"Rex\")\n",
    "cat = Cat(\"Whiskers\")\n",
    "\n",
    "print(dog.speak())  # Rex dice Woof!\n",
    "print(cat.speak())  # Whiskers dice Meow!\n",
    "\n",
    "dog.set_age(3)\n",
    "cat.set_age(5)\n",
    "\n",
    "print(dog.get_age())\n",
    "print(cat.get_age())"
   ]
  },
  {
   "cell_type": "code",
   "execution_count": 2,
   "metadata": {},
   "outputs": [
    {
     "name": "stdout",
     "output_type": "stream",
     "text": [
      "Base1\n",
      "Base2\n",
      "Derived\n",
      "Base1 Base2\n"
     ]
    }
   ],
   "source": [
    "class Base1:\n",
    "    def __init__(self):\n",
    "        self.str1 = \"Base1\"\n",
    "        print(\"Base1\")\n",
    "\n",
    "class Base2:\n",
    "    def __init__(self):\n",
    "        self.str2 = \"Base2\"\n",
    "        print(\"Base2\")\n",
    "\n",
    "class Derived(Base1, Base2):\n",
    "    def __init__(self):\n",
    "        Base1.__init__(self)\n",
    "        Base2.__init__(self)\n",
    "        print(\"Derived\")\n",
    "\n",
    "    def printStrs(self):\n",
    "        print(self.str1, self.str2)\n",
    "\n",
    "# Ejemplo de uso\n",
    "obj = Derived()\n",
    "obj.printStrs()"
   ]
  },
  {
   "cell_type": "code",
   "execution_count": null,
   "metadata": {},
   "outputs": [
    {
     "name": "stdout",
     "output_type": "stream",
     "text": [
      "Rex says Woof!\n",
      "Whiskers says Meow!\n",
      "Tweety says Tweet!\n",
      "3\n",
      "5\n",
      "1\n",
      "Brown\n",
      "Black\n",
      "Yellow\n",
      "Rex is eating dog food.\n",
      "Whiskers is eating cat food.\n",
      "Tweety is eating seeds.\n"
     ]
    }
   ],
   "source": [
    "class Animal:\n",
    "    def __init__(self, name):\n",
    "        self.name = name\n",
    "        self._age = 0\n",
    "        self.__color = \"\"  #Define un atributo privado llamado color en  la clase base,\n",
    "        #este atributo se podrá modificar en las clases derivadas a través de un método llamado setColor, \n",
    "        # el cual deberá desarrollarse en la clase base con acceso público. \n",
    "\n",
    "    def speak(self):\n",
    "        raise NotImplementedError(\"Subclass must implement abstract method\")\n",
    "\n",
    "    def eat(self):#Agrega el método comer a la clase Animal y genera una versión \n",
    "        #particular de cada método en todas las clases derivadas.\n",
    "        raise NotImplementedError(\"Subclass must implement eat method\")\n",
    "\n",
    "    def setColor(self, color):\n",
    "        self.__color = color\n",
    "\n",
    "    def getColor(self):#Proporciona en la clase base un método llamado getColor,\n",
    "        # el cual también tendrá acceso público.\n",
    "        return self.__color\n",
    "\n",
    "    def set_age(self, age):\n",
    "        self._age = age\n",
    "\n",
    "    def get_age(self):\n",
    "        return self._age\n",
    "\n",
    "\n",
    "class Dog(Animal):\n",
    "    def speak(self):\n",
    "        return f\"{self.name} says Woof!\"\n",
    "\n",
    "    def eat(self):#particular\n",
    "        return f\"{self.name} is eating dog food.\"\n",
    "\n",
    "\n",
    "class Cat(Animal):\n",
    "    def speak(self):\n",
    "        return f\"{self.name} says Meow!\"\n",
    "\n",
    "    def eat(self):#particular\n",
    "        return f\"{self.name} is eating cat food.\"\n",
    "\n",
    "\n",
    "class Bird(Animal):#Agrega más clases derivadas, que hereden de la clase base. \n",
    "    def speak(self):\n",
    "        return f\"{self.name} says Tweet!\"\n",
    "\n",
    "    def eat(self):#particular\n",
    "        return f\"{self.name} is eating seeds.\"\n",
    "\n",
    "\n",
    "# Ejemplo de uso\n",
    "dog = Dog(\"Rex\")\n",
    "cat = Cat(\"Whiskers\")\n",
    "bird = Bird(\"Tweety\")\n",
    "\n",
    "print(dog.speak())  # Rex dice Woof!\n",
    "print(cat.speak())  # Whiskers dice Meow!\n",
    "print(bird.speak())  # Tweety dice Tweet!\n",
    "\n",
    "dog.set_age(3)\n",
    "cat.set_age(5)\n",
    "bird.set_age(1)\n",
    "\n",
    "print(dog.get_age()) \n",
    "print(cat.get_age()) \n",
    "print(bird.get_age())\n",
    "\n",
    "dog.setColor(\"Brown\")\n",
    "cat.setColor(\"Black\")\n",
    "bird.setColor(\"Yellow\")\n",
    "\n",
    "print(dog.getColor())  # Brown\n",
    "print(cat.getColor())  # Black\n",
    "print(bird.getColor())  # Yellow\n",
    "\n",
    "print(dog.eat())  # Rex is eating dog food.\n",
    "print(cat.eat())  # Whiskers is eating cat food.\n",
    "print(bird.eat())  # Tweety is eating seeds.\n"
   ]
  },
  {
   "cell_type": "markdown",
   "metadata": {},
   "source": [
    "Por Said Carbot ESCOM-IPN-MEX noviembre 2024"
   ]
  }
 ],
 "metadata": {
  "kernelspec": {
   "display_name": "Python 3",
   "language": "python",
   "name": "python3"
  },
  "language_info": {
   "codemirror_mode": {
    "name": "ipython",
    "version": 3
   },
   "file_extension": ".py",
   "mimetype": "text/x-python",
   "name": "python",
   "nbconvert_exporter": "python",
   "pygments_lexer": "ipython3",
   "version": "3.13.0"
  }
 },
 "nbformat": 4,
 "nbformat_minor": 2
}
