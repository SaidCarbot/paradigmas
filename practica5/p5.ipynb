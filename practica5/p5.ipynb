{
 "cells": [
  {
   "cell_type": "markdown",
   "metadata": {},
   "source": [
    "## <span style=\"color: black;\"> Programación funcional\n",
    "###### <span style=\"color: black;\"> 22-OCT-2024\n",
    "______________________\n",
    "<span style=\"color: black;\">\n",
    "    <ul style=\"list-style-type:square\">\n",
    "        Instrucciones: Resuelve los siguientes ejercicios, empleando funciones, expresiones lambda y las funciones filter o map.<br><br>\n",
    "        <li>Duplicar los valores de los elementos de una lista.</li>\n",
    "        <br>\n",
    "        <li>Sumar dos listas.</li>\n",
    "        <br>\n",
    "        <li>Duplicar un número si es par y triplicarlo si es impar.</li>\n",
    "        <br>\n",
    "        <li>Encontrar las vocales de una cadena de texto.</li>\n",
    "        <br>\n",
    "        <li>Encontrar aquellos valores de una lista que sean divisibles entre 3</li>\n",
    "        <br>\n",
    "        <li>Crear una lista de listas a partir de una lista de entrada:</li>\n",
    "    </ul>\n",
    "</span>\n",
    "\n",
    "<hr style=\"border: 1px dashed black;\">\n"
   ]
  },
  {
   "cell_type": "markdown",
   "metadata": {},
   "source": [
    "<span style=\"color: black;\">\n",
    "    <ul style=\"list-style-type:square\">\n",
    "        <li>Duplicar los valores de los elementos de una lista.</li>        \n",
    "    </ul>\n",
    "</span>"
   ]
  },
  {
   "cell_type": "code",
   "execution_count": 43,
   "metadata": {},
   "outputs": [
    {
     "name": "stdout",
     "output_type": "stream",
     "text": [
      "[2, 4, 6, 8]\n"
     ]
    }
   ],
   "source": [
    "# Aqui conviene usas map() porque aplicamos un lambda a cada elemento\n",
    "lista = [1, 2, 3, 4]\n",
    "nueva_lista = list(map(lambda x: x * 2, lista))\n",
    "print(nueva_lista)  # Resultado: [2, 4, 6, 8]\n"
   ]
  },
  {
   "cell_type": "markdown",
   "metadata": {},
   "source": [
    "<span style=\"color: black;\">\n",
    "    <ul style=\"list-style-type:square\">\n",
    "        <li>Sumar dos listas.</li>        \n",
    "    </ul>\n",
    "</span>"
   ]
  },
  {
   "cell_type": "code",
   "execution_count": 44,
   "metadata": {},
   "outputs": [
    {
     "name": "stdout",
     "output_type": "stream",
     "text": [
      "[5, 8, 10, 12]\n"
     ]
    }
   ],
   "source": [
    "# Aqui tambien me conviene hacerlo con map() porque es sencillo y no es necesario crear todo un def,\n",
    "#  y puedo ir aplicando a cada elemento\n",
    "lista1 = [1, 2, 3, 4]\n",
    "lista2 = [4, 6, 7, 8 ]\n",
    "\n",
    "suma_listas = list(map(lambda x, y: x + y, lista1, lista2))\n",
    "print(suma_listas)  # Resultado: [5, 7, 9]"
   ]
  },
  {
   "cell_type": "markdown",
   "metadata": {},
   "source": [
    "<span style=\"color: black;\">\n",
    "    <ul style=\"list-style-type:square\">\n",
    "        <li>Duplicar un número si es par y triplicarlo si es impar.</li>        \n",
    "    </ul>\n",
    "</span>"
   ]
  },
  {
   "cell_type": "code",
   "execution_count": 49,
   "metadata": {},
   "outputs": [
    {
     "name": "stdout",
     "output_type": "stream",
     "text": [
      "4\n",
      "9\n",
      "15\n",
      "8\n"
     ]
    }
   ],
   "source": [
    "# Aquí con funciones\n",
    "def ParImpar(x):\n",
    "    if x % 2 == 0:\n",
    "        a = x * 2\n",
    "    else:\n",
    "        a = x * 3\n",
    "    return a\n",
    "\n",
    "x = 2\n",
    "y = 3\n",
    "z = 5\n",
    "w = 4\n",
    "\n",
    "print(ParImpar(x))\n",
    "print(ParImpar(y))\n",
    "print(ParImpar(z))\n",
    "print(ParImpar(w))"
   ]
  },
  {
   "cell_type": "markdown",
   "metadata": {},
   "source": [
    "<span style=\"color: black;\">\n",
    "    <ul style=\"list-style-type:square\">\n",
    "        <li>Encontrar las vocales de una cadena de texto.</li>        \n",
    "    </ul>\n",
    "</span>\n"
   ]
  },
  {
   "cell_type": "code",
   "execution_count": 46,
   "metadata": {},
   "outputs": [
    {
     "name": "stdout",
     "output_type": "stream",
     "text": [
      "oauoeeoueeeieAeeOooao\n"
     ]
    }
   ],
   "source": [
    "# Aquí sería con funciones filter usando lambda pues deseo sacar algo espesificio del TAD\n",
    "cadena = \"Hola Mundo, espero que estes bien. A veces. O por lo tanto.\"\n",
    "\n",
    "vocales = \"aeiouAEIOU\"\n",
    "resultado = filter(lambda x: x in vocales, cadena)\n",
    "\n",
    "# Convertir el resultado a una cadena de nuevo usando join\n",
    "cadena_filtrada = ''.join(resultado)\n",
    "print(cadena_filtrada) \n"
   ]
  },
  {
   "cell_type": "markdown",
   "metadata": {},
   "source": [
    "<span style=\"color: black;\">\n",
    "    <ul style=\"list-style-type:square\">\n",
    "        <li>Encontrar aquellos valores de una lista que sean divisibles entre 3</li>        \n",
    "    </ul>\n",
    "</span>\n",
    "\n"
   ]
  },
  {
   "cell_type": "code",
   "execution_count": 47,
   "metadata": {},
   "outputs": [
    {
     "name": "stdout",
     "output_type": "stream",
     "text": [
      "[17, 64, 34, 38, 82, 88, 13, 90, 50, 18]\n",
      "Los números divisibles entre 3 son:  [90, 18]\n"
     ]
    }
   ],
   "source": [
    "# Aquí sería con filter(lambda) porque es sencillo y queiro cosas espesificas\n",
    "import random\n",
    "# Creo ina listra \n",
    "lista = [random.randint(1, 100) for _ in range(10)]\n",
    "print(lista)\n",
    "divisible = filter(lambda x: int(x) % 3 == 0, lista)\n",
    "\n",
    "# Debo convertir de lista a int\n",
    "divisible_list = list(divisible)\n",
    "\n",
    "print(\"Los números divisibles entre 3 son: \",divisible_list) \n"
   ]
  },
  {
   "cell_type": "markdown",
   "metadata": {},
   "source": [
    "<span style=\"color: black;\">\n",
    "    <ul style=\"list-style-type:square\">\n",
    "        <li>Crear una lista de listas a partir de una lista de entrada:</li></li>        \n",
    "    </ul>\n",
    "</span>\n",
    "\n",
    "\n"
   ]
  },
  {
   "cell_type": "code",
   "execution_count": 51,
   "metadata": {},
   "outputs": [
    {
     "name": "stdout",
     "output_type": "stream",
     "text": [
      "[['s', 'a', 't'], ['b', 'a', 't'], ['c', 'a', 't'], ['m', 'a', 't']]\n"
     ]
    }
   ],
   "source": [
    "# Se podría  hacer como lo de abajo, pero es con lambda también, serpua un map(lambda)\n",
    "'''Alistaentrada = ['sat', 'bat', 'cat', 'mat']\n",
    "# Crear una lista de listas donde cada sublista contiene los caracteres de cada palabra\n",
    "salida = [list(palabra) for palabra in entrada]\n",
    "print(salida)'''\n",
    "\n",
    "entrada = ['sat', 'bat', 'cat', 'mat']\n",
    "salida = list(map(lambda palabra: list(palabra), entrada))\n",
    "print(salida)  "
   ]
  },
  {
   "cell_type": "markdown",
   "metadata": {},
   "source": [
    "Por Said Carbot Cruz Trejo & Elian Alejandro Torres Cárdenas, ESCOM-IPN-MEX "
   ]
  }
 ],
 "metadata": {
  "kernelspec": {
   "display_name": "Python 3",
   "language": "python",
   "name": "python3"
  },
  "language_info": {
   "codemirror_mode": {
    "name": "ipython",
    "version": 3
   },
   "file_extension": ".py",
   "mimetype": "text/x-python",
   "name": "python",
   "nbconvert_exporter": "python",
   "pygments_lexer": "ipython3",
   "version": "3.13.0"
  }
 },
 "nbformat": 4,
 "nbformat_minor": 2
}
