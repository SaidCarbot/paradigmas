{
 "cells": [
  {
   "cell_type": "markdown",
   "metadata": {},
   "source": [
    "<h1>Gestión de Transacciones Bancarias</h1>\n",
    "\n",
    "<p>Este proyecto tiene como objetivo demostrar el uso de excepciones personalizadas en Python para validar operaciones bancarias. El programa permitirá realizar depósitos y retiros con la correcta validación y manejo de errores.</p>\n",
    "\n",
    "<hr>\n",
    "\n",
    "<h2>Paso 1: Definir las excepciones personalizadas</h2>\n",
    "\n",
    "<p>Las excepciones personalizadas se utilizan para manejar situaciones específicas como depósitos o retiros inválidos y fondos insuficientes. Estas excepciones heredan de la clase base <code>Exception</code>.</p>\n"
   ]
  },
  {
   "cell_type": "code",
   "execution_count": 29,
   "metadata": {},
   "outputs": [],
   "source": [
    "# Definir excepciones personalizadas\n",
    "class DepositoInvalidoException(Exception):\n",
    "    \"\"\"Se lanza cuando el monto a depositar es negativo.\"\"\"\n",
    "    pass\n",
    "\n",
    "class RetiroInvalidoException(Exception):\n",
    "    \"\"\"Se lanza cuando el monto a retirar es negativo.\"\"\"\n",
    "    pass\n",
    "\n",
    "class FondosInsuficientesException(Exception):\n",
    "    \"\"\"Se lanza cuando el monto a retirar excede el saldo disponible.\"\"\"\n",
    "    pass"
   ]
  },
  {
   "cell_type": "markdown",
   "metadata": {},
   "source": [
    "<hr>\n",
    "\n",
    "<h2>Paso 2: Crear la clase <code>CuentaBancaria</code></h2>\n",
    "\n",
    "<p>La clase <code>CuentaBancaria</code> incluye:</p>\n",
    "<ul>\n",
    "    <li>Atributos: <code>numeroCuenta</code> y <code>saldo</code>.</li>\n",
    "    <li>Métodos: <code>depositar</code> y <code>retirar</code>, que validan las cantidades y lanzan excepciones si se encuentran errores.</li>\n",
    "</ul>\n"
   ]
  },
  {
   "cell_type": "code",
   "execution_count": 30,
   "metadata": {},
   "outputs": [],
   "source": [
    "# Clase CuentaBancaria\n",
    "class CuentaBancaria:\n",
    "    def __init__(self, numeroCuenta, saldo):\n",
    "        \"\"\"\n",
    "        Inicializa la cuenta bancaria con un número de cuenta y un saldo inicial.\n",
    "        \"\"\"\n",
    "        self.numeroCuenta = numeroCuenta\n",
    "        self.saldo = saldo\n",
    "\n",
    "    def depositar(self, cantidad):\n",
    "        \"\"\"\n",
    "        Agrega la cantidad especificada al saldo actual.\n",
    "        Lanza una excepción si la cantidad es negativa.\n",
    "        \"\"\"\n",
    "        if cantidad < 0:\n",
    "            raise DepositoInvalidoException(\"El monto a depositar no puede ser negativo.\")\n",
    "        self.saldo += cantidad\n",
    "        print(f\"Depósito exitoso. Nuevo saldo: ${self.saldo:.2f}\")\n",
    "\n",
    "    def retirar(self, cantidad):\n",
    "        \"\"\"\n",
    "        Reduce el saldo en la cantidad especificada.\n",
    "        Lanza excepciones si la cantidad es negativa o si excede el saldo disponible.\n",
    "        \"\"\"\n",
    "        if cantidad < 0:\n",
    "            raise RetiroInvalidoException(\"El monto a retirar no puede ser negativo.\")\n",
    "        if cantidad > self.saldo:\n",
    "            raise FondosInsuficientesException(\"Fondos insuficientes para realizar esta operación.\")\n",
    "        self.saldo -= cantidad\n",
    "        print(f\"Retiro exitoso. Nuevo saldo: ${self.saldo:.2f}\")\n"
   ]
  },
  {
   "cell_type": "markdown",
   "metadata": {},
   "source": [
    "<hr>\n",
    "\n",
    "<h2>Paso 3: Crear el programa principal</h2>\n",
    "\n",
    "<p>En el programa principal:</p>\n",
    "<ol>\n",
    "    <li>Se crea una instancia de <code>CuentaBancaria</code>.</li>\n",
    "    <li>Se presenta un menú interactivo para realizar depósitos, retiros o salir.</li>\n",
    "    <li>Se manejan las excepciones personalizadas mediante bloques <code>try-except</code>.</li>\n",
    "</ol>\n"
   ]
  },
  {
   "cell_type": "code",
   "execution_count": 31,
   "metadata": {},
   "outputs": [],
   "source": [
    "# Programa principal\n",
    "def main():\n",
    "    print(\"Bienvenido a la Gestión de Transacciones Bancarias.\")\n",
    "    numeroCuenta = input(\"Ingrese el número de cuenta: \")\n",
    "    saldoInicial = float(input(\"Ingrese el saldo inicial: \"))\n",
    "    cuenta = CuentaBancaria(numeroCuenta, saldoInicial)\n",
    "\n",
    "    while True:\n",
    "        print(\"\\nOpciones:\")\n",
    "        print(\"1. Depositar dinero\")\n",
    "        print(\"2. Retirar dinero\")\n",
    "        print(\"3. Salir\")\n",
    "        opcion = input(\"Seleccione una opción: \")\n",
    "\n",
    "        if opcion == \"1\":\n",
    "            try:\n",
    "                cantidad = float(input(\"Ingrese el monto a depositar: \"))\n",
    "                cuenta.depositar(cantidad)\n",
    "            except DepositoInvalidoException as e:\n",
    "                print(f\"Error: {e}\")\n",
    "            except ValueError:\n",
    "                print(\"Error: Por favor ingrese un monto válido.\")\n",
    "\n",
    "        elif opcion == \"2\":\n",
    "            try:\n",
    "                cantidad = float(input(\"Ingrese el monto a retirar: \"))\n",
    "                cuenta.retirar(cantidad)\n",
    "            except RetiroInvalidoException as e:\n",
    "                print(f\"Error: {e}\")\n",
    "            except FondosInsuficientesException as e:\n",
    "                print(f\"Error: {e}\")\n",
    "            except ValueError:\n",
    "                print(\"Error: Por favor ingrese un monto válido.\")\n",
    "\n",
    "        elif opcion == \"3\":\n",
    "            print(\"Gracias por usar el sistema. ¡Adiós!\")\n",
    "            break\n",
    "        else:\n",
    "            print(\"Opción no válida. Intente de nuevo.\")\n"
   ]
  },
  {
   "cell_type": "markdown",
   "metadata": {},
   "source": [
    "<hr>\n",
    "\n",
    "<h2>Paso 4: Ejecutar el programa principal</h2>\n",
    "\n",
    "<p>Llamamos a la función <code>main()</code> para iniciar el programa y permitir al usuario interactuar con las operaciones bancarias.</p>\n"
   ]
  },
  {
   "cell_type": "code",
   "execution_count": 32,
   "metadata": {},
   "outputs": [
    {
     "name": "stdout",
     "output_type": "stream",
     "text": [
      "Bienvenido a la Gestión de Transacciones Bancarias.\n",
      "\n",
      "Opciones:\n",
      "1. Depositar dinero\n",
      "2. Retirar dinero\n",
      "3. Salir\n",
      "Depósito exitoso. Nuevo saldo: $200.00\n",
      "\n",
      "Opciones:\n",
      "1. Depositar dinero\n",
      "2. Retirar dinero\n",
      "3. Salir\n",
      "Retiro exitoso. Nuevo saldo: $150.00\n",
      "\n",
      "Opciones:\n",
      "1. Depositar dinero\n",
      "2. Retirar dinero\n",
      "3. Salir\n",
      "Error: Fondos insuficientes para realizar esta operación.\n",
      "\n",
      "Opciones:\n",
      "1. Depositar dinero\n",
      "2. Retirar dinero\n",
      "3. Salir\n",
      "Depósito exitoso. Nuevo saldo: $153.00\n",
      "\n",
      "Opciones:\n",
      "1. Depositar dinero\n",
      "2. Retirar dinero\n",
      "3. Salir\n",
      "Gracias por usar el sistema. ¡Adiós!\n"
     ]
    }
   ],
   "source": [
    "# Ejecutar el programa principal\n",
    "if __name__ == \"__main__\":\n",
    "    main()\n"
   ]
  },
  {
   "cell_type": "markdown",
   "metadata": {},
   "source": [
    "<hr>\n",
    "\n",
    "<h2>Escenarios de prueba</h2>\n",
    "\n",
    "<p>Para verificar el funcionamiento del programa, considera los siguientes casos:</p>\n",
    "<ul>\n",
    "    <li>Intentar depositar un monto negativo.</li>\n",
    "    <li>Intentar retirar un monto negativo.</li>\n",
    "    <li>Intentar retirar un monto mayor al saldo disponible.</li>\n",
    "    <li>Realizar operaciones válidas de depósito y retiro.</li>\n",
    "</ul>\n",
    "\n",
    "<h2>Reflexión</h2>\n",
    "\n",
    "<ol>\n",
    "    <li><b>¿Por qué es importante validar las operaciones?</b>\n",
    "        <p>La validación asegura la integridad de los datos y previene errores críticos que pueden comprometer los fondos del cliente.</p>\n",
    "    </li>\n",
    "    <li><b>¿Qué ventaja tiene crear excepciones personalizadas?</b>\n",
    "        <p>Permiten manejar errores de forma clara y específica, mejorando la capacidad del programa para responder a diferentes situaciones.</p>\n",
    "    </li>\n",
    "    <li><b>¿Cómo podrías mejorar la experiencia del usuario?</b>\n",
    "        <p>\n",
    "            - Proporcionando mensajes de error más detallados.<br>\n",
    "            - Ofreciendo un historial de transacciones.<br>\n",
    "            - Incluyendo confirmaciones visuales o gráficas para las operaciones exitosas.\n",
    "        </p>\n",
    "    </li>\n",
    "</ol>\n"
   ]
  },
  {
   "cell_type": "markdown",
   "metadata": {},
   "source": [
    "Por Said Carbot Cruz Trejo y Elian Alejandro Torres Cardenas\n",
    "ESCOM-IPN-MEX"
   ]
  }
 ],
 "metadata": {
  "kernelspec": {
   "display_name": "Python 3",
   "language": "python",
   "name": "python3"
  },
  "language_info": {
   "codemirror_mode": {
    "name": "ipython",
    "version": 3
   },
   "file_extension": ".py",
   "mimetype": "text/x-python",
   "name": "python",
   "nbconvert_exporter": "python",
   "pygments_lexer": "ipython3",
   "version": "3.13.0"
  }
 },
 "nbformat": 4,
 "nbformat_minor": 2
}
