{
 "cells": [
  {
   "cell_type": "markdown",
   "metadata": {},
   "source": [
    "20 de noviembre de 2024  \n",
    "De la práctica 8 de POO  \n",
    "Está es la implementación en Python\n",
    " "
   ]
  },
  {
   "cell_type": "markdown",
   "metadata": {},
   "source": [
    "<h4>1) Definir la Clase Abstracta Vehículo</h4>\n",
    "\n",
    "<p>Crea una clase abstracta llamada <strong>Vehículo</strong> que represente un vehículo genérico.</p>\n",
    "\n",
    "<p>Esta clase debe tener:</p>\n",
    "<ul>\n",
    "    <li><strong>Atributos:</strong>\n",
    "        <ul>\n",
    "            <li><code>marca</code> (tipo <code>String</code>)</li>\n",
    "            <li><code>modelo</code> (tipo <code>String</code>)</li>\n",
    "            <li><code>año</code> (tipo <code>int</code>)</li>\n",
    "        </ul>\n",
    "    </li>\n",
    "    <li><strong>Métodos:</strong>\n",
    "        <ul>\n",
    "            <li><code>encender()</code>: método abstracto que simule el encendido del vehículo.</li>\n",
    "            <li><code>apagar()</code>: método abstracto que simule el apagado del vehículo.</li>\n",
    "            <li><code>describir()</code>: método abstracto que muestre una breve descripción del vehículo.</li>\n",
    "        </ul>\n",
    "    </li>\n",
    "</ul>\n",
    "\n",
    "<p><strong>Nota:</strong> La clase <code>Vehículo</code> no debe poder instanciarse directamente; solo sus clases derivadas podrán hacerlo.</p>\n"
   ]
  },
  {
   "cell_type": "code",
   "execution_count": 14,
   "metadata": {},
   "outputs": [],
   "source": [
    "from abc import ABC, abstractmethod\n",
    "\n",
    "# Clase abstracta Vehiculo\n",
    "class Vehiculo(ABC):\n",
    "    def __init__(self, marca, modelo, año):\n",
    "        self.marca = marca\n",
    "        self.modelo = modelo\n",
    "        self.año = año\n",
    "\n",
    "    @abstractmethod\n",
    "    def encender(self):\n",
    "        pass\n",
    "\n",
    "    @abstractmethod\n",
    "    def apagar(self):\n",
    "        pass\n",
    "\n",
    "    @abstractmethod\n",
    "    def describir(self):\n",
    "        pass\n"
   ]
  },
  {
   "cell_type": "markdown",
   "metadata": {},
   "source": [
    "<h4>2) Crear Clases Derivadas de Vehículo</h4>\n",
    "\n",
    "<p>Define las siguientes clases que hereden de <strong>Vehículo</strong> e implementen los métodos abstractos:</p>\n",
    "\n",
    "<h5>a) Clase Auto</h5>\n",
    "<ul>\n",
    "    <li>Representa un automóvil convencional.</li>\n",
    "    <li>Implementa <code>encender()</code> para simular el encendido de un auto.</li>\n",
    "    <li>Implementa <code>apagar()</code> para simular el apagado del auto.</li>\n",
    "    <li>Implementa <code>describir()</code> para mostrar información como: \n",
    "        <blockquote>\"Este es un auto de marca X, modelo Y, del año Z\".</blockquote>\n",
    "    </li>\n",
    "</ul>\n",
    "\n",
    "<h5>b) Clase Motocicleta</h5>\n",
    "<ul>\n",
    "    <li>Representa una motocicleta.</li>\n",
    "    <li>Implementa <code>encender()</code> para simular el encendido de una motocicleta.</li>\n",
    "    <li>Implementa <code>apagar()</code> para simular el apagado de la motocicleta.</li>\n",
    "    <li>Implementa <code>describir()</code> para mostrar información como: \n",
    "        <blockquote>\"Esta es una motocicleta de marca X, modelo Y, del año Z\".</blockquote>\n",
    "    </li>\n",
    "</ul>\n",
    "\n",
    "<h5>c) Clase Camión</h5>\n",
    "<ul>\n",
    "    <li>Representa un camión de carga.</li>\n",
    "    <li>Implementa <code>encender()</code> para simular el encendido de un camión.</li>\n",
    "    <li>Implementa <code>apagar()</code> para simular el apagado del camión.</li>\n",
    "    <li>Implementa <code>describir()</code> para mostrar información como: \n",
    "        <blockquote>\"Este es un camión de marca X, modelo Y, del año Z\".</blockquote>\n",
    "    </li>\n",
    "</ul>\n"
   ]
  },
  {
   "cell_type": "code",
   "execution_count": 15,
   "metadata": {},
   "outputs": [],
   "source": [
    "# Clase Auto que hereda de Vehiculo\n",
    "class Auto(Vehiculo):\n",
    "    def encender(self):\n",
    "        print(f\"El auto {self.marca} {self.modelo} está encendido.\")\n",
    "\n",
    "    def apagar(self):\n",
    "        print(f\"El auto {self.marca} {self.modelo} está apagado.\")\n",
    "\n",
    "    def describir(self):\n",
    "        print(f\"Este es un auto de marca {self.marca}, modelo {self.modelo}, del año {self.año}.\")\n",
    "\n",
    "# Clase Motocicleta que hereda de Vehiculo\n",
    "class Motocicleta(Vehiculo):\n",
    "    def encender(self):\n",
    "        print(f\"La motocicleta {self.marca} {self.modelo} está encendida.\")\n",
    "\n",
    "    def apagar(self):\n",
    "        print(f\"La motocicleta {self.marca} {self.modelo} está apagada.\")\n",
    "\n",
    "    def describir(self):\n",
    "        print(f\"Esta es una motocicleta de marca {self.marca}, modelo {self.modelo}, del año {self.año}.\")\n",
    "\n",
    "# Clase Camion que hereda de Vehiculo\n",
    "class Camion(Vehiculo):\n",
    "    def encender(self):\n",
    "        print(f\"El camión {self.marca} {self.modelo} está encendido.\")\n",
    "\n",
    "    def apagar(self):\n",
    "        print(f\"El camión {self.marca} {self.modelo} está apagado.\")\n",
    "\n",
    "    def describir(self):\n",
    "        print(f\"Este es un camión de marca {self.marca}, modelo {self.modelo}, del año {self.año}.\")\n"
   ]
  },
  {
   "cell_type": "markdown",
   "metadata": {},
   "source": [
    "<h4>3) Implementar el Programa Principal</h4>\n",
    "\n",
    "<p>Crea un programa que realice las siguientes operaciones:</p>\n",
    "<ul>\n",
    "    <li><strong>Definir una lista de vehículos</strong> que incluya al menos:\n",
    "        <ul>\n",
    "            <li>Un <strong>Auto</strong></li>\n",
    "            <li>Una <strong>Motocicleta</strong></li>\n",
    "            <li>Un <strong>Camión</strong></li>\n",
    "        </ul>\n",
    "    </li>\n",
    "    <li>Para cada vehículo en la lista, llamar a los métodos <code>encender()</code>, <code>describir()</code> y <code>apagar()</code> utilizando polimorfismo.</li>\n",
    "</ul>\n"
   ]
  },
  {
   "cell_type": "code",
   "execution_count": 16,
   "metadata": {},
   "outputs": [
    {
     "name": "stdout",
     "output_type": "stream",
     "text": [
      "El auto Toyota Corolla está encendido.\n",
      "Este es un auto de marca Toyota, modelo Corolla, del año 2022.\n",
      "El auto Toyota Corolla está apagado.\n",
      "----------------------------------------\n",
      "La motocicleta Harley-Davidson Street 750 está encendida.\n",
      "Esta es una motocicleta de marca Harley-Davidson, modelo Street 750, del año 2021.\n",
      "La motocicleta Harley-Davidson Street 750 está apagada.\n",
      "----------------------------------------\n",
      "El camión Volvo FH16 está encendido.\n",
      "Este es un camión de marca Volvo, modelo FH16, del año 2020.\n",
      "El camión Volvo FH16 está apagado.\n",
      "----------------------------------------\n"
     ]
    }
   ],
   "source": [
    "# Programa principal\n",
    "if __name__ == \"__main__\":\n",
    "    # Lista de vehículos\n",
    "    vehiculos = [\n",
    "        Auto(\"Toyota\", \"Corolla\", 2022),\n",
    "        Motocicleta(\"Harley-Davidson\", \"Street 750\", 2021),\n",
    "        Camion(\"Volvo\", \"FH16\", 2020)\n",
    "    ]\n",
    "\n",
    "    # Iterar sobre la lista de vehículos y usar polimorfismo\n",
    "    for vehiculo in vehiculos:\n",
    "        vehiculo.encender()\n",
    "        vehiculo.describir()\n",
    "        vehiculo.apagar()\n",
    "        print(\"-\" * 40)\n"
   ]
  },
  {
   "cell_type": "markdown",
   "metadata": {},
   "source": [
    "<h4>4) Preguntas de Reflexión</h4>\n",
    "\n",
    "<ul>\n",
    "    <li><strong>¿Por qué crees que Vehículo es una clase abstracta en lugar de una clase concreta?</strong></li>\n",
    "    <br>\n",
    "    Porque representa un concepto general y común entre los vehículos, asegurando que las clases derivadas implementen los métodos necesarios.\n",
    "    <li><strong>¿Qué ventaja ofrece el polimorfismo en este diseño cuando se trabaja con una lista de distintos tipos de vehículos?</strong></li>\n",
    "    <br>\n",
    "    Permite trabajar con una colección de objetos de diferentes tipos derivados de una misma clase base, simplificando el código y reduciendo redundancia\n",
    "    <li><strong>¿Qué pasaría si se quiere añadir otro tipo de vehículo (por ejemplo, BicicletaEléctrica)?</strong> \n",
    "        <p>¿Cómo ayuda la estructura actual a facilitar la expansión del programa?</p>\n",
    "    </li>\n",
    "    <br>\n",
    "    Solo sería necesario crear una nueva clase que herede de Vehiculo e implemente los métodos abstractos, manteniendo el diseño modular. Por ejemplo, class BicicletaElectrica(Vehiculo):.\n",
    "</ul>\n"
   ]
  },
  {
   "cell_type": "markdown",
   "metadata": {},
   "source": [
    "Por Said Carbot Cruz Trejo y Elian Alejandro Torres Cardenas\n",
    "ESCOM-IPN-MEX"
   ]
  }
 ],
 "metadata": {
  "kernelspec": {
   "display_name": "Python 3",
   "language": "python",
   "name": "python3"
  },
  "language_info": {
   "codemirror_mode": {
    "name": "ipython",
    "version": 3
   },
   "file_extension": ".py",
   "mimetype": "text/x-python",
   "name": "python",
   "nbconvert_exporter": "python",
   "pygments_lexer": "ipython3",
   "version": "3.13.0"
  }
 },
 "nbformat": 4,
 "nbformat_minor": 2
}
